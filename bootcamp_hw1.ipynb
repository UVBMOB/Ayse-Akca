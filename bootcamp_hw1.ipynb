{
 "cells": [
  {
   "cell_type": "code",
   "execution_count": 66,
   "metadata": {},
   "outputs": [],
   "source": [
    "import numpy as np\n",
    "import scipy.stats as st\n",
    "from scipy import stats\n",
    "from scipy.stats import norm\n",
    "import seaborn as sns\n",
    "anakitle=np.random.randint(2,100000,10000)\n",
    "np.random.seed(10)\n",
    "orneklem=np.random.choice(a=anakitle, size=100)\n",
    "orneklem_cdf=np.random.choice(a=anakitle, size=10)\n",
    "class data_():\n",
    "    def odd_even_():\n",
    "        orneklem1=np.random.choice(a=anakitle, size=100)\n",
    "        for i in range(100):\n",
    "            if (orneklem1[i]%2)==0:\n",
    "                print(orneklem1[i], \" çift sayıdır\")\n",
    "            else:\n",
    "                print(orneklem1[i], \" tek sayıdır\")\n",
    "    def mean_():\n",
    "        return np.mean(anakitle)\n",
    "    def scale_():\n",
    "        return st.sem(orneklem)\n",
    "    def confidence_interval_():\n",
    "        return  st.t.interval(alpha =0.95, df= len(orneklem)-1, loc= np.mean(orneklem), scale=st.sem(orneklem))\n",
    "    def plot_():\n",
    "        orneklem_normal=norm.rvs(orneklem)\n",
    "        ax=sns.distplot(orneklem_normal, bins=100, color= \"pink\")\n",
    "        ax.set(ylabel=\"Frekans\", xlabel=\"Data\")\n",
    "    def pdf_():\n",
    "        return stats.norm(0,0.1).pdf(0)\n",
    "    def cdf_():\n",
    "        raw_data = np.array(orneklem_cdf)\n",
    "        cdfx = np.sort(orneklem_cdf)\n",
    "        x_values = np.linspace(start=min(cdfx), stop=max(cdfx), num=len(cdfx))\n",
    "        # size of the x_values\n",
    "        size_data = raw_data.size\n",
    "        # y-data for the ECDF:\n",
    "        y_values = []\n",
    "        for i in x_values:\n",
    "            # all the values in raw data less than the ith value in x_values\n",
    "            temp = raw_data[raw_data <= i]\n",
    "            # fraction of that value with respect to the size of the x_values\n",
    "            value = temp.size / size_data\n",
    "            # pushing the value in the y_values\n",
    "            y_values.append(value)\n",
    "        # return both x and y values    \n",
    "        return \"x values: \",x_values,\"y values: \",y_values"
   ]
  }
 ],
 "metadata": {
  "kernelspec": {
   "display_name": "Python 3",
   "language": "python",
   "name": "python3"
  },
  "language_info": {
   "codemirror_mode": {
    "name": "ipython",
    "version": 3
   },
   "file_extension": ".py",
   "mimetype": "text/x-python",
   "name": "python",
   "nbconvert_exporter": "python",
   "pygments_lexer": "ipython3",
   "version": "3.6.5"
  }
 },
 "nbformat": 4,
 "nbformat_minor": 2
}
